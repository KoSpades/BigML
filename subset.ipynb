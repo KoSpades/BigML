{
 "cells": [
  {
   "cell_type": "code",
   "execution_count": 11,
   "metadata": {
    "collapsed": true,
    "pycharm": {
     "name": "#%%\n"
    }
   },
   "outputs": [],
   "source": [
    "import random\n",
    "import pandas as pd"
   ]
  },
  {
   "cell_type": "code",
   "execution_count": 12,
   "outputs": [],
   "source": [
    "train_df = pd.read_csv('input/covidx-cxr2/train.txt', sep=\" \", header=None)\n",
    "train_df.columns = ['patient id', 'filename', 'class', 'data source']\n",
    "train_df = train_df.drop(['patient id', 'data source'], axis=1)"
   ],
   "metadata": {
    "collapsed": false,
    "pycharm": {
     "name": "#%%\n"
    }
   }
  },
  {
   "cell_type": "code",
   "execution_count": 17,
   "outputs": [
    {
     "data": {
      "text/plain": "7768              b522e51e-15a9-4240-998f-5d8f8d594790.png\n24614    A808584-01-25-1901-NA-CHEST_AP_PORT-03932-2.00...\n20840    A357644-01-02-1901-NA-CHEST_AP_PORT-09976-1.00...\n17721    A130408-01-26-1901-NA-CHEST_AP_PORT-17564-2.00...\n24209    A727037-02-08-1901-NA-CHEST_AP_VIEWONLY-61591-...\n                               ...                        \n22362    A494186-01-05-1901-NA-CHEST_AP_PORTABLE-14227-...\n14263             b7fecc2a-df32-457b-bfa7-141769dd48e7.png\n15194             e3c0a6ca-58fb-4b9f-b56b-25491bbf3db8.png\n17239    A416909-02-13-1901-NA-CHEST_AP_PORT-00582-5.00...\n29524    A853316-01-03-1901-NA-CHEST_AP_PORT-54807-2.00...\nName: filename, Length: 1000, dtype: object"
     },
     "execution_count": 17,
     "metadata": {},
     "output_type": "execute_result"
    }
   ],
   "source": [
    "sample_df = train_df.sample(n=1000, random_state=0)\n",
    "sample_df[\"filename\"]"
   ],
   "metadata": {
    "collapsed": false,
    "pycharm": {
     "name": "#%%\n"
    }
   }
  },
  {
   "cell_type": "code",
   "execution_count": 22,
   "outputs": [
    {
     "name": "stdout",
     "output_type": "stream",
     "text": [
      "True\n"
     ]
    }
   ],
   "source": [
    "if \"b522e51e-15a9-4240-998f-5d8f8d594790.png\" in sample_df[\"filename\"].values:\n",
    "    print(True)"
   ],
   "metadata": {
    "collapsed": false,
    "pycharm": {
     "name": "#%%\n"
    }
   }
  },
  {
   "cell_type": "code",
   "execution_count": 26,
   "outputs": [],
   "source": [
    "import os\n",
    "\n",
    "for filename in os.listdir(\"input/covidx-cxr2/train\"):\n",
    "    if not filename in sample_df[\"filename\"].values:\n",
    "        file_full_name = \"input/covidx-cxr2/train/\" + filename\n",
    "        os.remove(file_full_name)"
   ],
   "metadata": {
    "collapsed": false,
    "pycharm": {
     "name": "#%%\n"
    }
   }
  }
 ],
 "metadata": {
  "kernelspec": {
   "display_name": "Python 3",
   "language": "python",
   "name": "python3"
  },
  "language_info": {
   "codemirror_mode": {
    "name": "ipython",
    "version": 2
   },
   "file_extension": ".py",
   "mimetype": "text/x-python",
   "name": "python",
   "nbconvert_exporter": "python",
   "pygments_lexer": "ipython2",
   "version": "2.7.6"
  }
 },
 "nbformat": 4,
 "nbformat_minor": 0
}