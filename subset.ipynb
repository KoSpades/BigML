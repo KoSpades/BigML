{
 "cells": [
  {
   "cell_type": "code",
   "execution_count": 27,
   "metadata": {
    "collapsed": true,
    "pycharm": {
     "name": "#%%\n"
    }
   },
   "outputs": [],
   "source": [
    "import random\n",
    "import pandas as pd"
   ]
  },
  {
   "cell_type": "code",
   "execution_count": 28,
   "outputs": [],
   "source": [
    "train_df = pd.read_csv('input/covidx-cxr2/train.txt', sep=\" \", header=None)\n",
    "train_df.columns = ['patient id', 'filename', 'class', 'data source']\n",
    "train_df = train_df.drop(['patient id', 'data source'], axis=1)"
   ],
   "metadata": {
    "collapsed": false,
    "pycharm": {
     "name": "#%%\n"
    }
   }
  },
  {
   "cell_type": "code",
   "execution_count": 29,
   "outputs": [
    {
     "data": {
      "text/plain": "7768              b522e51e-15a9-4240-998f-5d8f8d594790.png\n24614    A808584-01-25-1901-NA-CHEST_AP_PORT-03932-2.00...\n20840    A357644-01-02-1901-NA-CHEST_AP_PORT-09976-1.00...\n17721    A130408-01-26-1901-NA-CHEST_AP_PORT-17564-2.00...\n24209    A727037-02-08-1901-NA-CHEST_AP_VIEWONLY-61591-...\n                               ...                        \n7456              ac23be83-8423-4e72-a365-3df113da4de4.png\n6558              9358d1c5-ba61-4150-a233-41138208a3f9.png\n7276              a6d1218c-2486-4468-95fe-0587409fae29.png\n25462    A293330-01-21-1901-NA-CHEST_AP_VIEWONLY-37028-...\n28698    A775003-01-14-1901-NA-CHEST_AP_PORT-11099-1.00...\nName: filename, Length: 5000, dtype: object"
     },
     "execution_count": 29,
     "metadata": {},
     "output_type": "execute_result"
    }
   ],
   "source": [
    "sample_df = train_df.sample(n=5000, random_state=0)\n",
    "sample_df[\"filename\"]"
   ],
   "metadata": {
    "collapsed": false,
    "pycharm": {
     "name": "#%%\n"
    }
   }
  },
  {
   "cell_type": "code",
   "execution_count": 30,
   "outputs": [
    {
     "name": "stdout",
     "output_type": "stream",
     "text": [
      "True\n"
     ]
    }
   ],
   "source": [
    "if \"b522e51e-15a9-4240-998f-5d8f8d594790.png\" in sample_df[\"filename\"].values:\n",
    "    print(True)"
   ],
   "metadata": {
    "collapsed": false,
    "pycharm": {
     "name": "#%%\n"
    }
   }
  },
  {
   "cell_type": "code",
   "execution_count": 31,
   "outputs": [],
   "source": [
    "import os\n",
    "\n",
    "for filename in os.listdir(\"input/covidx-cxr2/train\"):\n",
    "    if not filename in sample_df[\"filename\"].values:\n",
    "        file_full_name = \"input/covidx-cxr2/train/\" + filename\n",
    "        os.remove(file_full_name)"
   ],
   "metadata": {
    "collapsed": false,
    "pycharm": {
     "name": "#%%\n"
    }
   }
  },
  {
   "cell_type": "code",
   "execution_count": null,
   "outputs": [],
   "source": [],
   "metadata": {
    "collapsed": false,
    "pycharm": {
     "name": "#%%\n"
    }
   }
  }
 ],
 "metadata": {
  "kernelspec": {
   "display_name": "Python 3",
   "language": "python",
   "name": "python3"
  },
  "language_info": {
   "codemirror_mode": {
    "name": "ipython",
    "version": 2
   },
   "file_extension": ".py",
   "mimetype": "text/x-python",
   "name": "python",
   "nbconvert_exporter": "python",
   "pygments_lexer": "ipython2",
   "version": "2.7.6"
  }
 },
 "nbformat": 4,
 "nbformat_minor": 0
}